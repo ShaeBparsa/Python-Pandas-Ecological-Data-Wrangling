{
 "cells": [
  {
   "cell_type": "markdown",
   "id": "20065979",
   "metadata": {},
   "source": [
    "# Ecological Data Wrangling with Python  and Pandas\n"
   ]
  },
  {
   "cell_type": "markdown",
   "id": "f6712f00",
   "metadata": {},
   "source": [
    "This Jupyter Notebook contains 5 functions that perform various data-wrangling steps, including constructing a text facet, constructing a numeric cluster, and clustering a column of text entries. Additionally, there are functions for string processing, such as trimming whitespace and replacing internal whitespace with a single space.\n",
    "\n",
    "Each function below has been tested with examples to ensure they work as intended."
   ]
  },
  {
   "cell_type": "code",
   "execution_count": null,
   "id": "2003ac26",
   "metadata": {},
   "outputs": [],
   "source": [
    "# importing some libraries\n",
    "import pandas as pd\n",
    "import numpy as np\n",
    "import re\n",
    "import math\n",
    "from sklearn.cluster import AffinityPropagation\n",
    "import distance\n",
    "from difflib import SequenceMatcher\n",
    "import re"
   ]
  },
  {
   "cell_type": "markdown",
   "id": "d26cf7a3",
   "metadata": {},
   "source": [
    "### Load data and figure out some aspect of it:"
   ]
  },
  {
   "cell_type": "code",
   "execution_count": 16,
   "id": "355d9e18",
   "metadata": {},
   "outputs": [],
   "source": [
    "#Initialize the filename\n",
    "fileName =\"Portal_rodents_19772002_scinameUUIDs.csv\""
   ]
  },
  {
   "cell_type": "code",
   "execution_count": 136,
   "id": "749db58b",
   "metadata": {},
   "outputs": [],
   "source": [
    "#read the csv file with pandas\n",
    "df = pd.read_csv(fileName, sep=\",\",engine=\"python\")"
   ]
  },
  {
   "cell_type": "code",
   "execution_count": 141,
   "id": "645ac35a",
   "metadata": {},
   "outputs": [
    {
     "data": {
      "text/html": [
       "<div>\n",
       "<style scoped>\n",
       "    .dataframe tbody tr th:only-of-type {\n",
       "        vertical-align: middle;\n",
       "    }\n",
       "\n",
       "    .dataframe tbody tr th {\n",
       "        vertical-align: top;\n",
       "    }\n",
       "\n",
       "    .dataframe thead th {\n",
       "        text-align: right;\n",
       "    }\n",
       "</style>\n",
       "<table border=\"1\" class=\"dataframe\">\n",
       "  <thead>\n",
       "    <tr style=\"text-align: right;\">\n",
       "      <th></th>\n",
       "      <th>survey_id</th>\n",
       "      <th>recordID</th>\n",
       "      <th>mo</th>\n",
       "      <th>dy</th>\n",
       "      <th>yr</th>\n",
       "      <th>period</th>\n",
       "      <th>plot_id</th>\n",
       "      <th>plot</th>\n",
       "      <th>note1</th>\n",
       "      <th>stake</th>\n",
       "      <th>...</th>\n",
       "      <th>tag</th>\n",
       "      <th>note2</th>\n",
       "      <th>ltag</th>\n",
       "      <th>note3</th>\n",
       "      <th>prevrt</th>\n",
       "      <th>prevlet</th>\n",
       "      <th>nestdir</th>\n",
       "      <th>neststk</th>\n",
       "      <th>note4</th>\n",
       "      <th>note5</th>\n",
       "    </tr>\n",
       "  </thead>\n",
       "  <tbody>\n",
       "    <tr>\n",
       "      <th>0</th>\n",
       "      <td>491ec41b-0a80-4ce9-b754-2983c6f38e71</td>\n",
       "      <td>6545</td>\n",
       "      <td>9</td>\n",
       "      <td>18</td>\n",
       "      <td>1982</td>\n",
       "      <td>62.0</td>\n",
       "      <td>4dc16022-f28d-4b9d-9062-c7bc3ad43362</td>\n",
       "      <td>13</td>\n",
       "      <td>13.0</td>\n",
       "      <td>36.0</td>\n",
       "      <td>...</td>\n",
       "      <td>NaN</td>\n",
       "      <td>NaN</td>\n",
       "      <td>NaN</td>\n",
       "      <td>NaN</td>\n",
       "      <td>NaN</td>\n",
       "      <td>NaN</td>\n",
       "      <td>NaN</td>\n",
       "      <td>NaN</td>\n",
       "      <td>NaN</td>\n",
       "      <td>NaN</td>\n",
       "    </tr>\n",
       "    <tr>\n",
       "      <th>1</th>\n",
       "      <td>f280bade-4e9b-447d-afe0-9e6d45e6bfb0</td>\n",
       "      <td>5220</td>\n",
       "      <td>1</td>\n",
       "      <td>24</td>\n",
       "      <td>1982</td>\n",
       "      <td>54.0</td>\n",
       "      <td>dcbbd373-c22e-46ef-ae8b-ad88f5cf7475</td>\n",
       "      <td>20</td>\n",
       "      <td>13.0</td>\n",
       "      <td>27.0</td>\n",
       "      <td>...</td>\n",
       "      <td>NaN</td>\n",
       "      <td>NaN</td>\n",
       "      <td>NaN</td>\n",
       "      <td>NaN</td>\n",
       "      <td>NaN</td>\n",
       "      <td>NaN</td>\n",
       "      <td>NaN</td>\n",
       "      <td>NaN</td>\n",
       "      <td>NaN</td>\n",
       "      <td>NaN</td>\n",
       "    </tr>\n",
       "    <tr>\n",
       "      <th>2</th>\n",
       "      <td>2b1b4a8a-c3e9-4781-a5f9-18b081383876</td>\n",
       "      <td>18932</td>\n",
       "      <td>8</td>\n",
       "      <td>7</td>\n",
       "      <td>1991</td>\n",
       "      <td>162.0</td>\n",
       "      <td>1e87b11b-4795-4f41-bdff-2d5c4412be25</td>\n",
       "      <td>19</td>\n",
       "      <td>13.0</td>\n",
       "      <td>33.0</td>\n",
       "      <td>...</td>\n",
       "      <td>NaN</td>\n",
       "      <td>NaN</td>\n",
       "      <td>NaN</td>\n",
       "      <td>NaN</td>\n",
       "      <td>NaN</td>\n",
       "      <td>NaN</td>\n",
       "      <td>NaN</td>\n",
       "      <td>NaN</td>\n",
       "      <td>NaN</td>\n",
       "      <td>D</td>\n",
       "    </tr>\n",
       "  </tbody>\n",
       "</table>\n",
       "<p>3 rows × 39 columns</p>\n",
       "</div>"
      ],
      "text/plain": [
       "                              survey_id  recordID  mo  dy    yr  period  \\\n",
       "0  491ec41b-0a80-4ce9-b754-2983c6f38e71      6545   9  18  1982    62.0   \n",
       "1  f280bade-4e9b-447d-afe0-9e6d45e6bfb0      5220   1  24  1982    54.0   \n",
       "2  2b1b4a8a-c3e9-4781-a5f9-18b081383876     18932   8   7  1991   162.0   \n",
       "\n",
       "                                plot_id  plot  note1  stake  ...  tag note2  \\\n",
       "0  4dc16022-f28d-4b9d-9062-c7bc3ad43362    13   13.0   36.0  ...  NaN   NaN   \n",
       "1  dcbbd373-c22e-46ef-ae8b-ad88f5cf7475    20   13.0   27.0  ...  NaN   NaN   \n",
       "2  1e87b11b-4795-4f41-bdff-2d5c4412be25    19   13.0   33.0  ...  NaN   NaN   \n",
       "\n",
       "  ltag note3  prevrt  prevlet nestdir neststk note4 note5  \n",
       "0  NaN   NaN     NaN      NaN     NaN     NaN   NaN   NaN  \n",
       "1  NaN   NaN     NaN      NaN     NaN     NaN   NaN   NaN  \n",
       "2  NaN   NaN     NaN      NaN     NaN     NaN   NaN     D  \n",
       "\n",
       "[3 rows x 39 columns]"
      ]
     },
     "execution_count": 141,
     "metadata": {},
     "output_type": "execute_result"
    }
   ],
   "source": [
    "#print 5 first rows\n",
    "df.head(3)"
   ]
  },
  {
   "cell_type": "code",
   "execution_count": 19,
   "id": "841f6a1c",
   "metadata": {},
   "outputs": [
    {
     "data": {
      "text/html": [
       "<div>\n",
       "<style scoped>\n",
       "    .dataframe tbody tr th:only-of-type {\n",
       "        vertical-align: middle;\n",
       "    }\n",
       "\n",
       "    .dataframe tbody tr th {\n",
       "        vertical-align: top;\n",
       "    }\n",
       "\n",
       "    .dataframe thead th {\n",
       "        text-align: right;\n",
       "    }\n",
       "</style>\n",
       "<table border=\"1\" class=\"dataframe\">\n",
       "  <thead>\n",
       "    <tr style=\"text-align: right;\">\n",
       "      <th></th>\n",
       "      <th>recordID</th>\n",
       "      <th>mo</th>\n",
       "      <th>dy</th>\n",
       "      <th>yr</th>\n",
       "      <th>period</th>\n",
       "      <th>plot</th>\n",
       "      <th>note1</th>\n",
       "      <th>stake</th>\n",
       "      <th>decimalLatitude</th>\n",
       "      <th>decimalLongitude</th>\n",
       "      <th>hfl</th>\n",
       "      <th>wgt</th>\n",
       "      <th>prevlet</th>\n",
       "      <th>neststk</th>\n",
       "    </tr>\n",
       "  </thead>\n",
       "  <tbody>\n",
       "    <tr>\n",
       "      <th>count</th>\n",
       "      <td>35549.000000</td>\n",
       "      <td>35549.000000</td>\n",
       "      <td>35549.000000</td>\n",
       "      <td>35549.000000</td>\n",
       "      <td>35549.000000</td>\n",
       "      <td>35549.000000</td>\n",
       "      <td>3592.000000</td>\n",
       "      <td>35479.000000</td>\n",
       "      <td>60.000000</td>\n",
       "      <td>60.000000</td>\n",
       "      <td>31438.000000</td>\n",
       "      <td>32283.000000</td>\n",
       "      <td>33478.000000</td>\n",
       "      <td>5436.000000</td>\n",
       "    </tr>\n",
       "    <tr>\n",
       "      <th>mean</th>\n",
       "      <td>17775.000000</td>\n",
       "      <td>6.474022</td>\n",
       "      <td>16.105966</td>\n",
       "      <td>1990.475231</td>\n",
       "      <td>149.534263</td>\n",
       "      <td>11.397001</td>\n",
       "      <td>7.322105</td>\n",
       "      <td>44.804138</td>\n",
       "      <td>42.510023</td>\n",
       "      <td>-109.475797</td>\n",
       "      <td>29.287932</td>\n",
       "      <td>42.672428</td>\n",
       "      <td>2.579216</td>\n",
       "      <td>19.756439</td>\n",
       "    </tr>\n",
       "    <tr>\n",
       "      <th>std</th>\n",
       "      <td>10262.256696</td>\n",
       "      <td>3.396583</td>\n",
       "      <td>8.256691</td>\n",
       "      <td>7.493355</td>\n",
       "      <td>97.092749</td>\n",
       "      <td>6.799406</td>\n",
       "      <td>4.216711</td>\n",
       "      <td>23.453326</td>\n",
       "      <td>6.328684</td>\n",
       "      <td>12.551608</td>\n",
       "      <td>9.564759</td>\n",
       "      <td>36.631259</td>\n",
       "      <td>100.371258</td>\n",
       "      <td>26.534418</td>\n",
       "    </tr>\n",
       "    <tr>\n",
       "      <th>min</th>\n",
       "      <td>1.000000</td>\n",
       "      <td>1.000000</td>\n",
       "      <td>1.000000</td>\n",
       "      <td>1977.000000</td>\n",
       "      <td>-284.000000</td>\n",
       "      <td>1.000000</td>\n",
       "      <td>1.000000</td>\n",
       "      <td>-99.000000</td>\n",
       "      <td>28.634440</td>\n",
       "      <td>-115.942700</td>\n",
       "      <td>2.000000</td>\n",
       "      <td>4.000000</td>\n",
       "      <td>0.000000</td>\n",
       "      <td>-2.000000</td>\n",
       "    </tr>\n",
       "    <tr>\n",
       "      <th>25%</th>\n",
       "      <td>8888.000000</td>\n",
       "      <td>4.000000</td>\n",
       "      <td>9.000000</td>\n",
       "      <td>1984.000000</td>\n",
       "      <td>73.000000</td>\n",
       "      <td>5.000000</td>\n",
       "      <td>5.000000</td>\n",
       "      <td>25.000000</td>\n",
       "      <td>45.390723</td>\n",
       "      <td>-115.920298</td>\n",
       "      <td>21.000000</td>\n",
       "      <td>20.000000</td>\n",
       "      <td>0.000000</td>\n",
       "      <td>0.000000</td>\n",
       "    </tr>\n",
       "    <tr>\n",
       "      <th>50%</th>\n",
       "      <td>17775.000000</td>\n",
       "      <td>6.000000</td>\n",
       "      <td>16.000000</td>\n",
       "      <td>1990.000000</td>\n",
       "      <td>149.000000</td>\n",
       "      <td>11.000000</td>\n",
       "      <td>6.000000</td>\n",
       "      <td>45.000000</td>\n",
       "      <td>45.450000</td>\n",
       "      <td>-115.855953</td>\n",
       "      <td>32.000000</td>\n",
       "      <td>37.000000</td>\n",
       "      <td>0.000000</td>\n",
       "      <td>0.000000</td>\n",
       "    </tr>\n",
       "    <tr>\n",
       "      <th>75%</th>\n",
       "      <td>26662.000000</td>\n",
       "      <td>9.000000</td>\n",
       "      <td>23.000000</td>\n",
       "      <td>1997.000000</td>\n",
       "      <td>234.000000</td>\n",
       "      <td>17.000000</td>\n",
       "      <td>13.000000</td>\n",
       "      <td>64.000000</td>\n",
       "      <td>45.597618</td>\n",
       "      <td>-115.038401</td>\n",
       "      <td>36.000000</td>\n",
       "      <td>48.000000</td>\n",
       "      <td>0.000000</td>\n",
       "      <td>43.000000</td>\n",
       "    </tr>\n",
       "    <tr>\n",
       "      <th>max</th>\n",
       "      <td>35549.000000</td>\n",
       "      <td>12.000000</td>\n",
       "      <td>31.000000</td>\n",
       "      <td>2002.000000</td>\n",
       "      <td>295.000000</td>\n",
       "      <td>24.000000</td>\n",
       "      <td>13.000000</td>\n",
       "      <td>99.000000</td>\n",
       "      <td>46.337780</td>\n",
       "      <td>-82.359440</td>\n",
       "      <td>70.000000</td>\n",
       "      <td>280.000000</td>\n",
       "      <td>8000.000000</td>\n",
       "      <td>99.000000</td>\n",
       "    </tr>\n",
       "  </tbody>\n",
       "</table>\n",
       "</div>"
      ],
      "text/plain": [
       "           recordID            mo            dy            yr        period  \\\n",
       "count  35549.000000  35549.000000  35549.000000  35549.000000  35549.000000   \n",
       "mean   17775.000000      6.474022     16.105966   1990.475231    149.534263   \n",
       "std    10262.256696      3.396583      8.256691      7.493355     97.092749   \n",
       "min        1.000000      1.000000      1.000000   1977.000000   -284.000000   \n",
       "25%     8888.000000      4.000000      9.000000   1984.000000     73.000000   \n",
       "50%    17775.000000      6.000000     16.000000   1990.000000    149.000000   \n",
       "75%    26662.000000      9.000000     23.000000   1997.000000    234.000000   \n",
       "max    35549.000000     12.000000     31.000000   2002.000000    295.000000   \n",
       "\n",
       "               plot        note1         stake  decimalLatitude  \\\n",
       "count  35549.000000  3592.000000  35479.000000        60.000000   \n",
       "mean      11.397001     7.322105     44.804138        42.510023   \n",
       "std        6.799406     4.216711     23.453326         6.328684   \n",
       "min        1.000000     1.000000    -99.000000        28.634440   \n",
       "25%        5.000000     5.000000     25.000000        45.390723   \n",
       "50%       11.000000     6.000000     45.000000        45.450000   \n",
       "75%       17.000000    13.000000     64.000000        45.597618   \n",
       "max       24.000000    13.000000     99.000000        46.337780   \n",
       "\n",
       "       decimalLongitude           hfl           wgt       prevlet      neststk  \n",
       "count         60.000000  31438.000000  32283.000000  33478.000000  5436.000000  \n",
       "mean        -109.475797     29.287932     42.672428      2.579216    19.756439  \n",
       "std           12.551608      9.564759     36.631259    100.371258    26.534418  \n",
       "min         -115.942700      2.000000      4.000000      0.000000    -2.000000  \n",
       "25%         -115.920298     21.000000     20.000000      0.000000     0.000000  \n",
       "50%         -115.855953     32.000000     37.000000      0.000000     0.000000  \n",
       "75%         -115.038401     36.000000     48.000000      0.000000    43.000000  \n",
       "max          -82.359440     70.000000    280.000000   8000.000000    99.000000  "
      ]
     },
     "execution_count": 19,
     "metadata": {},
     "output_type": "execute_result"
    }
   ],
   "source": [
    "#describe the data frame to understand it better\n",
    "df.describe()"
   ]
  },
  {
   "cell_type": "code",
   "execution_count": 20,
   "id": "5b69784b",
   "metadata": {},
   "outputs": [
    {
     "data": {
      "text/plain": [
       "survey_id               0\n",
       "recordID                0\n",
       "mo                      0\n",
       "dy                      0\n",
       "yr                      0\n",
       "period                  0\n",
       "plot_id                 0\n",
       "plot                    0\n",
       "note1               31957\n",
       "stake                  70\n",
       "species              2015\n",
       "scientificName      15318\n",
       "locality            34874\n",
       "JSON                35483\n",
       "decimalLatitude     35489\n",
       "decimalLongitude    35489\n",
       "county              35453\n",
       "state               35183\n",
       "country             34871\n",
       "sex                  2506\n",
       "age                 20103\n",
       "reprod              33898\n",
       "testes              25857\n",
       "vagina              33952\n",
       "pregnant            34327\n",
       "nipples             30521\n",
       "lactation           35423\n",
       "hfl                  4111\n",
       "wgt                  3266\n",
       "tag                  2324\n",
       "note2               30965\n",
       "ltag                 1901\n",
       "note3               35533\n",
       "prevrt               1780\n",
       "prevlet              2071\n",
       "nestdir             33718\n",
       "neststk             30113\n",
       "note4               34908\n",
       "note5               32451\n",
       "dtype: int64"
      ]
     },
     "execution_count": 20,
     "metadata": {},
     "output_type": "execute_result"
    }
   ],
   "source": [
    "#check the number of null values of each column/feature\n",
    "df.isnull().sum()"
   ]
  },
  {
   "cell_type": "markdown",
   "id": "15713377",
   "metadata": {},
   "source": [
    "### (1)construct a text facet when given a column with text strings as entries;\n"
   ]
  },
  {
   "cell_type": "code",
   "execution_count": 21,
   "id": "7dc1d21b",
   "metadata": {},
   "outputs": [],
   "source": [
    "def text_facet(df,col):\n",
    "    #define a condition that if that feature represent String data \n",
    "    #return the text facet otherwise tell the type is not valid\n",
    "    #to have text_facet like open refine\n",
    "    # apply some some function on dataframe like\n",
    "    #groupby column, then choose the desired column and apply for the count\n",
    "    if df[col].dtypes==\"O\":\n",
    "\n",
    "        return df.groupby(col)[col].count()\n",
    "    else:\n",
    "        return('This feature is not object')"
   ]
  },
  {
   "cell_type": "code",
   "execution_count": 22,
   "id": "3255e84d",
   "metadata": {},
   "outputs": [
    {
     "data": {
      "text/plain": [
       "'This feature is not object'"
      ]
     },
     "execution_count": 22,
     "metadata": {},
     "output_type": "execute_result"
    }
   ],
   "source": [
    "# Example:\n",
    "# applying text_facet function on object feature\n",
    "text_facet(df,'yr')"
   ]
  },
  {
   "cell_type": "code",
   "execution_count": 9,
   "id": "3afcda0a",
   "metadata": {},
   "outputs": [
    {
     "data": {
      "text/plain": [
       "scientificName\n",
       "  Amphispiza bilineata                 1\n",
       "  Amphispiza bilineata                 1\n",
       "Ammodramus savannarum                  2\n",
       "Ammospermophilis harrisi               1\n",
       "Ammospermophilus harrisi             435\n",
       "Ammospermophilus harrisii              1\n",
       "Amphespiza bilineata                   7\n",
       "Amphispiza bilineata                 289\n",
       "Amphispiza bilineatus                  1\n",
       "Amphispiza cilineata                   1\n",
       "Amphispizo bilineata                   1\n",
       "Baiomys taylori                       46\n",
       "Calamospiza melanocorys                1\n",
       "Callipepla squamata                    1\n",
       "Campylorhynchus brunneicapillus        1\n",
       "Chaetodipus baileyi                    2\n",
       "Cnemidophorus tigris                   1\n",
       "Cnemidophorus uniparens                1\n",
       "Crotalus scutalatus                    1\n",
       "Crotalus viridis                       1\n",
       "Dipodomys merriami                 10596\n",
       "Dipodomys ordii                     3027\n",
       "Dipodomys spectabilis               2504\n",
       "Dipodomys sp.                         40\n",
       "Emphispiza bilinata                    2\n",
       "Onychomys leucogaster               1006\n",
       "Onychomys torridus                  2249\n",
       "Onychomys sp.                         12\n",
       "Name: scientificName, dtype: int64"
      ]
     },
     "execution_count": 9,
     "metadata": {},
     "output_type": "execute_result"
    }
   ],
   "source": [
    "# Example:\n",
    "# applying text_facet function on object feature with String data\n",
    "text_facet(df,'scientificName')"
   ]
  },
  {
   "cell_type": "markdown",
   "id": "efe061cc",
   "metadata": {},
   "source": [
    "### (2) Construct a numeric facet when given a column with numeric entries, with the option of using a log scale;\n",
    "\n"
   ]
  },
  {
   "cell_type": "code",
   "execution_count": 62,
   "id": "8d2e3d34",
   "metadata": {},
   "outputs": [],
   "source": [
    "#define a condition that if that feature represent String data \n",
    "# tell the type is not valid; otherwise return the numeric facet\n",
    "#to have num_facet like open refine\n",
    "# apply some some function on dataframe lik\n",
    "#groupby log of column, then choose the desired column and apply for its count\n",
    "# filter zero values since (log 0) gives error\n",
    "def num_facet(df,col):\n",
    "    if df[col].dtypes!=\"O\":\n",
    "        return df[df[col] != 0].groupby(np.log( df[col]))[col].count()\n",
    "    else:\n",
    "        return('This feature is object and Log scale can not be applied to it')\n"
   ]
  },
  {
   "cell_type": "code",
   "execution_count": 63,
   "id": "9baea52e",
   "metadata": {},
   "outputs": [
    {
     "data": {
      "text/plain": [
       "'This feature is object and Log scale can not be applied to it'"
      ]
     },
     "execution_count": 63,
     "metadata": {},
     "output_type": "execute_result"
    }
   ],
   "source": [
    "# Example:\n",
    "# applying num_facet function on object feature\n",
    "num_facet(df,'scientificName')"
   ]
  },
  {
   "cell_type": "code",
   "execution_count": 64,
   "id": "e4bd0ff0",
   "metadata": {},
   "outputs": [
    {
     "data": {
      "text/plain": [
       "period\n",
       "0.000000     62\n",
       "0.693147     94\n",
       "1.098612     86\n",
       "1.386294    102\n",
       "1.609438     75\n",
       "           ... \n",
       "5.673323     88\n",
       "5.676754    213\n",
       "5.680173    218\n",
       "5.683580    197\n",
       "5.686975    164\n",
       "Name: period, Length: 295, dtype: int64"
      ]
     },
     "execution_count": 64,
     "metadata": {},
     "output_type": "execute_result"
    }
   ],
   "source": [
    "# Example:\n",
    "# applying num_facet function on integer feature\n",
    "num_facet(df,'period')"
   ]
  },
  {
   "cell_type": "markdown",
   "id": "17985968",
   "metadata": {},
   "source": [
    "### (3) Cluster a column of text entries (using an appropriate clustering method);"
   ]
  },
  {
   "cell_type": "code",
   "execution_count": 96,
   "id": "09c7e2de",
   "metadata": {},
   "outputs": [],
   "source": [
    "#cluster column based on similarity rate\n",
    "# similar rate works as threshold\n",
    "def clusteringByColumn(col, similarity_rate):\n",
    "    # calculating the unique values of specific column and initial it to words\n",
    "    words =df[col].unique().astype(str) \n",
    "\n",
    "    # calculate the similarity rate of each unique value and all the other unique values in words \n",
    "    # if the lenght of words is n, lev_similarity is a list with n lists and each list has lenght of n as well\n",
    "    lev_similarity = np.array([[SequenceMatcher(None, w1,w2).ratio() for w1 in words] for w2 in words])\n",
    "    \n",
    "    # similarity_rate works as a threshold \n",
    "    # check if the similarity value is above the threshold/similarity_rate, \n",
    "    # calculate its index and add to the corresponding set\n",
    "    indexes = [ set(index for index in range(len(i)) if i[index] >= similarity_rate) for i in lev_similarity ]\n",
    "    \n",
    "    #eliminate the set with one elements thats means they dont have any similar item based on threshold of similarity rate\n",
    "    cluster_index = [ i for i in indexes if len(i)>1]   \n",
    "    \n",
    "    # remove the duplicates\n",
    "    c_index = np.unique(cluster_index)\n",
    "    \n",
    "    # eliminate the subsets of each main sets: having a list with several set of index and their intersection is empty \n",
    "    cluster_index= [x for x in c_index if not any(set(x)<=set(y) for y in c_index if x is not y)]\n",
    "    \n",
    "    #print the indexes\n",
    "    print('Indexes of Clusters: ', cluster_index)\n",
    "    \n",
    "    # find the elements of clusters based on their index\n",
    "    #cluster_words = {'cluster': [words[i] for i in index] for i in cluster_index }\n",
    "    cluster_words = { j+1 : [words[i] for i in cluster_index[j]] for j in range(len(cluster_index)) }\n",
    "    \n",
    "    # return clusters including more than 2 items\n",
    "    return  cluster_words\n",
    "\n"
   ]
  },
  {
   "cell_type": "code",
   "execution_count": 97,
   "id": "4cbfa60d",
   "metadata": {},
   "outputs": [
    {
     "name": "stdout",
     "output_type": "stream",
     "text": [
      "Indexes of Cluster:  [{0, 1, 7}, {3, 4, 5}]\n"
     ]
    },
    {
     "data": {
      "text/plain": [
       "{1: ['  Amphispiza bilineata',\n",
       "  '  Amphispiza bilineata  ',\n",
       "  'Amphispiza bilineata'],\n",
       " 2: ['Ammospermophilis harrisi',\n",
       "  'Ammospermophilus harrisi',\n",
       "  'Ammospermophilus harrisii']}"
      ]
     },
     "execution_count": 97,
     "metadata": {},
     "output_type": "execute_result"
    }
   ],
   "source": [
    "#Example:\n",
    "# clustering scientificName column with rate of similarity 0.9501\n",
    "clusteringByColumn('scientificName', 0.9501)\n"
   ]
  },
  {
   "cell_type": "code",
   "execution_count": 124,
   "id": "255d8817",
   "metadata": {},
   "outputs": [
    {
     "name": "stdout",
     "output_type": "stream",
     "text": [
      "Indexes of Cluster:  [{18, 19, 20}, {0, 1, 2, 3, 4, 5, 6, 7, 8, 9, 10, 11, 12, 13, 14, 15, 16, 17, 21, 22, 23, 25}]\n"
     ]
    },
    {
     "data": {
      "text/plain": [
       "{1: ['2000', '2001', '2002'],\n",
       " 2: ['1982',\n",
       "  '1991',\n",
       "  '1993',\n",
       "  '1983',\n",
       "  '1984',\n",
       "  '1985',\n",
       "  '1986',\n",
       "  '1987',\n",
       "  '1988',\n",
       "  '1989',\n",
       "  '1990',\n",
       "  '1992',\n",
       "  '1994',\n",
       "  '1995',\n",
       "  '1996',\n",
       "  '1997',\n",
       "  '1998',\n",
       "  '1999',\n",
       "  '1978',\n",
       "  '1980',\n",
       "  '1981',\n",
       "  '1979']}"
      ]
     },
     "execution_count": 124,
     "metadata": {},
     "output_type": "execute_result"
    }
   ],
   "source": [
    "#Example:\n",
    "# clustering year column with rate of similarity 0.75\n",
    "clusteringByColumn('yr',0.75)"
   ]
  },
  {
   "cell_type": "markdown",
   "id": "92b958bc",
   "metadata": {},
   "source": [
    "### (4) For string processing by trimming all whitespace at the start and end of a string"
   ]
  },
  {
   "cell_type": "code",
   "execution_count": 102,
   "id": "151ed276",
   "metadata": {},
   "outputs": [],
   "source": [
    "#By using lambda, this function goes through each feature and if its type\n",
    "#is object/ string, remove white space at the start and the beginning.\n",
    "#And apply these changes to the data frame\n",
    "def whiteSpace_trimm(df):\n",
    "    return df.apply(lambda x: x.str.strip() if x.dtype == \"object\" else x)"
   ]
  },
  {
   "cell_type": "markdown",
   "id": "05f84050",
   "metadata": {},
   "source": [
    "### (5) For string processing by replacing internal whitespace by a single space"
   ]
  },
  {
   "cell_type": "code",
   "execution_count": 103,
   "id": "7c610acc",
   "metadata": {},
   "outputs": [],
   "source": [
    "#By using lambda, this function goes through each feature and if its type\n",
    "#is object/String, Remove ONLY DUPLICATE spaces.\n",
    "#And apply these changes to the data frame\n",
    "def one_whiteSpace(df):\n",
    "    return df.applymap(lambda x: \" \".join(re.split(\"\\s+\", x, flags=re.UNICODE))\n",
    "                            if type(x) == str else x)"
   ]
  },
  {
   "cell_type": "code",
   "execution_count": 106,
   "id": "ea4bb227",
   "metadata": {},
   "outputs": [
    {
     "data": {
      "text/html": [
       "<div>\n",
       "<style scoped>\n",
       "    .dataframe tbody tr th:only-of-type {\n",
       "        vertical-align: middle;\n",
       "    }\n",
       "\n",
       "    .dataframe tbody tr th {\n",
       "        vertical-align: top;\n",
       "    }\n",
       "\n",
       "    .dataframe thead th {\n",
       "        text-align: right;\n",
       "    }\n",
       "</style>\n",
       "<table border=\"1\" class=\"dataframe\">\n",
       "  <thead>\n",
       "    <tr style=\"text-align: right;\">\n",
       "      <th></th>\n",
       "      <th>survey_id</th>\n",
       "      <th>recordID</th>\n",
       "      <th>mo</th>\n",
       "      <th>dy</th>\n",
       "      <th>yr</th>\n",
       "      <th>period</th>\n",
       "      <th>plot_id</th>\n",
       "      <th>plot</th>\n",
       "      <th>note1</th>\n",
       "      <th>stake</th>\n",
       "      <th>...</th>\n",
       "      <th>tag</th>\n",
       "      <th>note2</th>\n",
       "      <th>ltag</th>\n",
       "      <th>note3</th>\n",
       "      <th>prevrt</th>\n",
       "      <th>prevlet</th>\n",
       "      <th>nestdir</th>\n",
       "      <th>neststk</th>\n",
       "      <th>note4</th>\n",
       "      <th>note5</th>\n",
       "    </tr>\n",
       "  </thead>\n",
       "  <tbody>\n",
       "    <tr>\n",
       "      <th>0</th>\n",
       "      <td>491ec41b-0a80-4ce9-b754-2983c6f38e71</td>\n",
       "      <td>6545</td>\n",
       "      <td>9</td>\n",
       "      <td>18</td>\n",
       "      <td>1982</td>\n",
       "      <td>62.0</td>\n",
       "      <td>4dc16022-f28d-4b9d-9062-c7bc3ad43362</td>\n",
       "      <td>13</td>\n",
       "      <td>13.0</td>\n",
       "      <td>36.0</td>\n",
       "      <td>...</td>\n",
       "      <td>NaN</td>\n",
       "      <td>NaN</td>\n",
       "      <td>NaN</td>\n",
       "      <td>NaN</td>\n",
       "      <td>NaN</td>\n",
       "      <td>NaN</td>\n",
       "      <td>NaN</td>\n",
       "      <td>NaN</td>\n",
       "      <td>NaN</td>\n",
       "      <td>NaN</td>\n",
       "    </tr>\n",
       "    <tr>\n",
       "      <th>1</th>\n",
       "      <td>f280bade-4e9b-447d-afe0-9e6d45e6bfb0</td>\n",
       "      <td>5220</td>\n",
       "      <td>1</td>\n",
       "      <td>24</td>\n",
       "      <td>1982</td>\n",
       "      <td>54.0</td>\n",
       "      <td>dcbbd373-c22e-46ef-ae8b-ad88f5cf7475</td>\n",
       "      <td>20</td>\n",
       "      <td>13.0</td>\n",
       "      <td>27.0</td>\n",
       "      <td>...</td>\n",
       "      <td>NaN</td>\n",
       "      <td>NaN</td>\n",
       "      <td>NaN</td>\n",
       "      <td>NaN</td>\n",
       "      <td>NaN</td>\n",
       "      <td>NaN</td>\n",
       "      <td>NaN</td>\n",
       "      <td>NaN</td>\n",
       "      <td>NaN</td>\n",
       "      <td>NaN</td>\n",
       "    </tr>\n",
       "    <tr>\n",
       "      <th>2</th>\n",
       "      <td>2b1b4a8a-c3e9-4781-a5f9-18b081383876</td>\n",
       "      <td>18932</td>\n",
       "      <td>8</td>\n",
       "      <td>7</td>\n",
       "      <td>1991</td>\n",
       "      <td>162.0</td>\n",
       "      <td>1e87b11b-4795-4f41-bdff-2d5c4412be25</td>\n",
       "      <td>19</td>\n",
       "      <td>13.0</td>\n",
       "      <td>33.0</td>\n",
       "      <td>...</td>\n",
       "      <td>NaN</td>\n",
       "      <td>NaN</td>\n",
       "      <td>NaN</td>\n",
       "      <td>NaN</td>\n",
       "      <td>NaN</td>\n",
       "      <td>NaN</td>\n",
       "      <td>NaN</td>\n",
       "      <td>NaN</td>\n",
       "      <td>NaN</td>\n",
       "      <td>D</td>\n",
       "    </tr>\n",
       "  </tbody>\n",
       "</table>\n",
       "<p>3 rows × 39 columns</p>\n",
       "</div>"
      ],
      "text/plain": [
       "                              survey_id  recordID  mo  dy    yr  period  \\\n",
       "0  491ec41b-0a80-4ce9-b754-2983c6f38e71      6545   9  18  1982    62.0   \n",
       "1  f280bade-4e9b-447d-afe0-9e6d45e6bfb0      5220   1  24  1982    54.0   \n",
       "2  2b1b4a8a-c3e9-4781-a5f9-18b081383876     18932   8   7  1991   162.0   \n",
       "\n",
       "                                plot_id  plot  note1  stake  ...  tag note2  \\\n",
       "0  4dc16022-f28d-4b9d-9062-c7bc3ad43362    13   13.0   36.0  ...  NaN   NaN   \n",
       "1  dcbbd373-c22e-46ef-ae8b-ad88f5cf7475    20   13.0   27.0  ...  NaN   NaN   \n",
       "2  1e87b11b-4795-4f41-bdff-2d5c4412be25    19   13.0   33.0  ...  NaN   NaN   \n",
       "\n",
       "  ltag note3  prevrt  prevlet nestdir neststk note4 note5  \n",
       "0  NaN   NaN     NaN      NaN     NaN     NaN   NaN   NaN  \n",
       "1  NaN   NaN     NaN      NaN     NaN     NaN   NaN   NaN  \n",
       "2  NaN   NaN     NaN      NaN     NaN     NaN   NaN     D  \n",
       "\n",
       "[3 rows x 39 columns]"
      ]
     },
     "execution_count": 106,
     "metadata": {},
     "output_type": "execute_result"
    }
   ],
   "source": [
    "# define an another dataframe by applying whiteSpace_trimm on the main dataframe\n",
    "df1 = whiteSpace_trimm(df)\n",
    "df1.head(3)"
   ]
  },
  {
   "cell_type": "code",
   "execution_count": 107,
   "id": "8ceea0d9",
   "metadata": {},
   "outputs": [
    {
     "data": {
      "text/plain": [
       "scientificName\n",
       "Ammodramus savannarum                  2\n",
       "Ammospermophilis harrisi               1\n",
       "Ammospermophilus harrisi             435\n",
       "Ammospermophilus harrisii              1\n",
       "Amphespiza bilineata                   7\n",
       "Amphispiza bilineata                 291\n",
       "Amphispiza bilineatus                  1\n",
       "Amphispiza cilineata                   1\n",
       "Amphispizo bilineata                   1\n",
       "Baiomys taylori                       46\n",
       "Calamospiza melanocorys                1\n",
       "Callipepla squamata                    1\n",
       "Campylorhynchus brunneicapillus        1\n",
       "Chaetodipus baileyi                    2\n",
       "Cnemidophorus tigris                   1\n",
       "Cnemidophorus uniparens                1\n",
       "Crotalus scutalatus                    1\n",
       "Crotalus viridis                       1\n",
       "Dipodomys merriami                 10596\n",
       "Dipodomys ordii                     3027\n",
       "Dipodomys spectabilis               2504\n",
       "Dipodomys sp.                         40\n",
       "Emphispiza bilinata                    2\n",
       "Onychomys leucogaster               1006\n",
       "Onychomys torridus                  2249\n",
       "Onychomys sp.                         12\n",
       "Name: scientificName, dtype: int64"
      ]
     },
     "execution_count": 107,
     "metadata": {},
     "output_type": "execute_result"
    }
   ],
   "source": [
    "#Example:\n",
    "# run text_facet on scientificName to check if the white spaces are elimited\n",
    "df1 = whiteSpace_trimm(df)\n",
    "text_facet(df1,'scientificName')"
   ]
  },
  {
   "cell_type": "code",
   "execution_count": 19,
   "id": "d66fe455",
   "metadata": {},
   "outputs": [
    {
     "data": {
      "text/plain": [
       "scientificName\n",
       "Ammodramus savannarum                  2\n",
       "Ammospermophilis harrisi               1\n",
       "Ammospermophilus harrisi             435\n",
       "Ammospermophilus harrisii              1\n",
       "Amphespiza bilineata                   7\n",
       "Amphispiza bilineata                 291\n",
       "Amphispiza bilineatus                  1\n",
       "Amphispiza cilineata                   1\n",
       "Amphispizo bilineata                   1\n",
       "Baiomys taylori                       46\n",
       "Calamospiza melanocorys                1\n",
       "Callipepla squamata                    1\n",
       "Campylorhynchus brunneicapillus        1\n",
       "Chaetodipus baileyi                    2\n",
       "Cnemidophorus tigris                   1\n",
       "Cnemidophorus uniparens                1\n",
       "Crotalus scutalatus                    1\n",
       "Crotalus viridis                       1\n",
       "Dipodomys merriami                 10596\n",
       "Dipodomys ordii                     3027\n",
       "Dipodomys spectabilis               2504\n",
       "Dipodomys sp.                         40\n",
       "Emphispiza bilinata                    2\n",
       "Onychomys leucogaster               1006\n",
       "Onychomys torridus                  2249\n",
       "Onychomys sp.                         12\n",
       "Name: scientificName, dtype: int64"
      ]
     },
     "execution_count": 19,
     "metadata": {},
     "output_type": "execute_result"
    }
   ],
   "source": [
    "#Example:\n",
    "# run text_facet on scientificName to check if the middle white spaces are elimited\n",
    "df2 = whiteSpace_trimm(df)\n",
    "text_facet(df2,'scientificName')"
   ]
  },
  {
   "cell_type": "code",
   "execution_count": 119,
   "id": "eea3d542",
   "metadata": {},
   "outputs": [],
   "source": [
    "import re\n",
    "s='491ec41b-0a80-4ce9-b754-2983c6f38e71      gfjgh'\n",
    "#Remove ALL spaces in a string, even between words:\n",
    "s = re.sub(r\"\\s+\", \"\", s, flags=re.UNICODE)\n",
    "#Remove spaces both in the BEGINNING and in the END of a string:\n",
    "s = re.sub(r\"^\\s+\", \"\", s, flags=re.UNICODE)\n",
    "#Remove spaces in the END of a string:\n",
    "s = re.sub(r\"\\s+$\", \"\", s, flags=re.UNICODE)\n",
    "#Remove ONLY DUPLICATE spaces:\n",
    "s = \" \".join(re.split(\"\\s+\", s, flags=re.UNICODE)) #only one space\n"
   ]
  },
  {
   "cell_type": "code",
   "execution_count": null,
   "id": "e2cd62dd",
   "metadata": {},
   "outputs": [],
   "source": []
  }
 ],
 "metadata": {
  "kernelspec": {
   "display_name": "Python 3 (ipykernel)",
   "language": "python",
   "name": "python3"
  },
  "language_info": {
   "codemirror_mode": {
    "name": "ipython",
    "version": 3
   },
   "file_extension": ".py",
   "mimetype": "text/x-python",
   "name": "python",
   "nbconvert_exporter": "python",
   "pygments_lexer": "ipython3",
   "version": "3.9.7"
  }
 },
 "nbformat": 4,
 "nbformat_minor": 5
}
